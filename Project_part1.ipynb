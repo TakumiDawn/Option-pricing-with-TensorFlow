{
 "cells": [
  {
   "cell_type": "code",
   "execution_count": 2,
   "metadata": {
    "id": "pYvMTA0Y5Fs7"
   },
   "outputs": [],
   "source": [
    "#FIN 553 Group Project 1 - Part 1\n",
    "#Takumi Li (feiyang3), Pengjie Ren (pengjie2), Wenqing Ni(wn5)\n",
    "\n",
    "import tensorflow as tf\n",
    "import numpy as np\n",
    "Spot = 36   # stock price\n",
    "σ = 0.2     # stock volatility\n",
    "K = 40      # strike price\n",
    "r = 0.06    # risk free rate\n",
    "n = 100000  # Number of simualted paths\n",
    "m = 50      # number of exercise dates\n",
    "T = 1       # maturity\n",
    "order = 6   # Polynmial order\n",
    "Δt = T / m  # interval between two exercise dates"
   ]
  },
  {
   "cell_type": "code",
   "execution_count": 3,
   "metadata": {
    "id": "WhvblfdW5Ixe"
   },
   "outputs": [],
   "source": [
    "# Construct polynomial features of order up to k using the\n",
    "# recursive formulation\n",
    "def chebyshev_basis(x, k):  #x = [0,1,2]\n",
    "    B = [tf.ones(len(x)), x]   #B = [[1,1,1],[0,1,2]]\n",
    "    for n in range(2, k):\n",
    "        Bn = 2 * x * B[n - 1] - B[n - 2] # 2*[0,1,2]*[0,1,2] - [1,1,1]\n",
    "        B.append(Bn)    # [-1, 1, 7]   \n",
    "\n",
    "    return tf.stack(B,axis = 1)\n"
   ]
  },
  {
   "cell_type": "code",
   "execution_count": 4,
   "metadata": {
    "id": "cVioZNKW5LrA"
   },
   "outputs": [],
   "source": [
    "# scales x to be in the interval(-1, 1)\n",
    "def scale(x):\n",
    "    xmin = tf.reduce_min(x)\n",
    "    xmax = tf.reduce_max(x)\n",
    "    a = 2 / (xmax - xmin)\n",
    "    b = 1 - a * xmax\n",
    "    return a * x + b"
   ]
  },
  {
   "cell_type": "code",
   "execution_count": 5,
   "metadata": {
    "id": "LU4VMH335PnJ"
   },
   "outputs": [],
   "source": [
    "# simulates the stock price evolution\n",
    "def advance(S, r, σ, Δt, n):\n",
    "    dB = tf.sqrt(Δt) * tf.random.normal([len(S)])\n",
    "    out = S + r * S * Δt + σ * S * dB\n",
    "    return out"
   ]
  },
  {
   "cell_type": "code",
   "execution_count": 7,
   "metadata": {
    "colab": {
     "base_uri": "https://localhost:8080/"
    },
    "id": "crWuqWZEuNRj",
    "outputId": "7a0b51de-b30d-4b4f-cde3-41f5d2c76ed0"
   },
   "outputs": [
    {
     "name": "stdout",
     "output_type": "stream",
     "text": [
      "tf.Tensor(4.487445, shape=(), dtype=float32)\n"
     ]
    }
   ],
   "source": [
    "# LSMC algorithm\n",
    "\n",
    "tf.random.set_seed(0)\n",
    "S0 = Spot * tf.ones(n)\n",
    "S = {0: S0}\n",
    "\n",
    "for t in range(m):\n",
    "    S[t + 1] = advance(S[t], r, σ, Δt, n)\n",
    "\n",
    "discount = tf.exp(-r * Δt)\n",
    "CFL = {t: tf.maximum(0., K - S[t]) for t in S.keys()}\n",
    "value_tp1 = CFL[m] * discount # array 10w array\n",
    "CV = {m: tf.zeros_like(S0)}\n",
    "\n",
    "for t in range(m - 1, 0, -1):\n",
    "    X = chebyshev_basis(scale(S[t]), order) # 6 * 10W MATRIX\n",
    "    Y = tf.constant(value_tp1, shape=(100000, 1)) # 10w * 1\n",
    "\n",
    "\n",
    "\n",
    "    # regression to estimate the continuation value\n",
    "    Θ = tf.linalg.solve(tf.matmul(tf.transpose(X),X),tf.matmul(tf.transpose(X),Y))    # 6* 10w  *  10 w * 6    6 * 10w * 10w * 1    theta 6*1\n",
    "    CV[t] = tf.matmul(X,Θ)\n",
    "    CFL[t] = tf.reshape(CFL[t],[100000,1])\n",
    "    \n",
    "    CV[t] = tf.convert_to_tensor(CV[t],dtype=tf.float32)\n",
    "    CFL[t] = tf.convert_to_tensor(CFL[t],dtype=tf.float32)\n",
    "\n",
    "    \n",
    "    exercise = tf.math.greater(CFL[t] , CV[t])\n",
    "    value_tp1 = tf.reshape(value_tp1, [100000,1])\n",
    "    \n",
    "    value_t = tf.where(exercise, CFL[t], value_tp1)\n",
    "    \n",
    "    value_tp1 = discount * value_t\n",
    "\n",
    "POF = {t: tf.where(CV[t] < CFL[t], CFL[t], 0) for t in range(1, m + 1)}\n",
    "POF[50] = tf.reshape(POF[50],(100000,1))\n",
    "POF[49] = tf.reshape(POF[49],(100000,1))\n",
    "\n",
    "\n",
    "POF = tf.stack(list(POF.values()),axis=0)\n",
    "#POF = tf.constant(POF, shape=(50,100000))\n",
    "\n",
    "POF = tf.reshape(POF,(50,100000))\n",
    "idx_payoffs = tf.math.argmax(POF > 0, axis=0)\n",
    "FPOF = tf.transpose(tf.one_hot(idx_payoffs, m)) * POF\n",
    "m_range = tf.constant(range(0, m), shape=(m,1),dtype=tf.float32)\n",
    "dFPOF = FPOF * tf.exp(-r * m_range * Δt)\n",
    "\n",
    "dFPOF = tf.reduce_sum(dFPOF)\n",
    "PRICE = dFPOF / n\n",
    "print(PRICE)\n",
    "\n",
    "\n"
   ]
  },
  {
   "cell_type": "code",
   "execution_count": null,
   "metadata": {
    "id": "E8bvCyTWyz6i"
   },
   "outputs": [],
   "source": []
  }
 ],
 "metadata": {
  "colab": {
   "name": "啦啦啦.ipynb",
   "provenance": []
  },
  "kernelspec": {
   "display_name": "Python 3",
   "language": "python",
   "name": "python3"
  },
  "language_info": {
   "codemirror_mode": {
    "name": "ipython",
    "version": 3
   },
   "file_extension": ".py",
   "mimetype": "text/x-python",
   "name": "python",
   "nbconvert_exporter": "python",
   "pygments_lexer": "ipython3",
   "version": "3.8.3"
  }
 },
 "nbformat": 4,
 "nbformat_minor": 1
}
